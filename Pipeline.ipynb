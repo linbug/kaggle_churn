{
 "cells": [
  {
   "cell_type": "code",
   "execution_count": 25,
   "metadata": {},
   "outputs": [],
   "source": [
    "import sqlite3\n",
    "import numpy as np\n",
    "from sklearn.linear_model import LogisticRegression\n",
    "from sklearn.model_selection import train_test_split\n",
    "import pandas as pd"
   ]
  },
  {
   "cell_type": "code",
   "execution_count": 31,
   "metadata": {},
   "outputs": [],
   "source": [
    "# open the connection\n",
    "db = sqlite3.connect('data/mydb')\n",
    "cur = db.cursor()"
   ]
  },
  {
   "cell_type": "code",
   "execution_count": 14,
   "metadata": {},
   "outputs": [],
   "source": [
    "# select all the rows in the members dataset where the id is in the training dataset\n",
    "# this will be my preliminary training set\n",
    "cur.execute('''SELECT city, bd, gender, registered_via, registration_init_time, is_churn \n",
    "            FROM training \n",
    "            INNER JOIN members ON training.msno=members.msno''')\n",
    "training = np.array(cur.fetchall())"
   ]
  },
  {
   "cell_type": "code",
   "execution_count": 20,
   "metadata": {},
   "outputs": [],
   "source": [
    "X = training[:, :-1]\n",
    "y = training[:, -1]"
   ]
  },
  {
   "cell_type": "code",
   "execution_count": 21,
   "metadata": {},
   "outputs": [
    {
     "data": {
      "text/plain": [
       "(699492,)"
      ]
     },
     "execution_count": 21,
     "metadata": {},
     "output_type": "execute_result"
    }
   ],
   "source": [
    "y.shape"
   ]
  },
  {
   "cell_type": "code",
   "execution_count": 22,
   "metadata": {},
   "outputs": [
    {
     "data": {
      "text/plain": [
       "(699492, 5)"
      ]
     },
     "execution_count": 22,
     "metadata": {},
     "output_type": "execute_result"
    }
   ],
   "source": [
    "X.shape"
   ]
  },
  {
   "cell_type": "code",
   "execution_count": 24,
   "metadata": {},
   "outputs": [
    {
     "data": {
      "text/plain": [
       "array([['13', '20', 'male', '3', '20131223'],\n",
       "       ['13', '0', '', '9', '20140307'],\n",
       "       ['1', '0', '', '3', '20140402'],\n",
       "       ..., \n",
       "       ['13', '28', 'male', '7', '20110831'],\n",
       "       ['1', '0', '', '7', '20110903'],\n",
       "       ['1', '0', '', '7', '20110905']],\n",
       "      dtype='<U21')"
      ]
     },
     "execution_count": 24,
     "metadata": {},
     "output_type": "execute_result"
    }
   ],
   "source": [
    "X\n"
   ]
  },
  {
   "cell_type": "markdown",
   "metadata": {},
   "source": [
    "# Pipeline using cleaned data"
   ]
  },
  {
   "cell_type": "code",
   "execution_count": 27,
   "metadata": {},
   "outputs": [],
   "source": [
    "store = pd.HDFStore('store.h5')"
   ]
  },
  {
   "cell_type": "code",
   "execution_count": 29,
   "metadata": {},
   "outputs": [],
   "source": [
    "members = store['members']"
   ]
  },
  {
   "cell_type": "code",
   "execution_count": 36,
   "metadata": {},
   "outputs": [],
   "source": [
    "training = pd.read_csv('data/churn_comp_refresh/train_v2.csv')"
   ]
  },
  {
   "cell_type": "code",
   "execution_count": 45,
   "metadata": {},
   "outputs": [],
   "source": [
    "# select only the intersection between training and members tables\n",
    "members_training = members.merge(training, on='msno', how='inner')"
   ]
  },
  {
   "cell_type": "code",
   "execution_count": 46,
   "metadata": {},
   "outputs": [
    {
     "data": {
      "text/html": [
       "<div>\n",
       "<style scoped>\n",
       "    .dataframe tbody tr th:only-of-type {\n",
       "        vertical-align: middle;\n",
       "    }\n",
       "\n",
       "    .dataframe tbody tr th {\n",
       "        vertical-align: top;\n",
       "    }\n",
       "\n",
       "    .dataframe thead th {\n",
       "        text-align: right;\n",
       "    }\n",
       "</style>\n",
       "<table border=\"1\" class=\"dataframe\">\n",
       "  <thead>\n",
       "    <tr style=\"text-align: right;\">\n",
       "      <th></th>\n",
       "      <th>msno</th>\n",
       "      <th>age</th>\n",
       "      <th>age_is_null</th>\n",
       "      <th>gender_is_null</th>\n",
       "      <th>days_since_start_of_membership</th>\n",
       "      <th>city_1</th>\n",
       "      <th>city_3</th>\n",
       "      <th>city_4</th>\n",
       "      <th>city_5</th>\n",
       "      <th>city_6</th>\n",
       "      <th>...</th>\n",
       "      <th>city_21</th>\n",
       "      <th>city_22</th>\n",
       "      <th>gender_female</th>\n",
       "      <th>gender_male</th>\n",
       "      <th>registered_via_3</th>\n",
       "      <th>registered_via_4</th>\n",
       "      <th>registered_via_7</th>\n",
       "      <th>registered_via_9</th>\n",
       "      <th>registered_via_13</th>\n",
       "      <th>is_churn</th>\n",
       "    </tr>\n",
       "  </thead>\n",
       "  <tbody>\n",
       "    <tr>\n",
       "      <th>0</th>\n",
       "      <td>+tJonkh+O1CA796Fm5X60UMOtB6POHAwPjbTRVl/EuU=</td>\n",
       "      <td>-1</td>\n",
       "      <td>0</td>\n",
       "      <td>1</td>\n",
       "      <td>2056</td>\n",
       "      <td>1</td>\n",
       "      <td>0</td>\n",
       "      <td>0</td>\n",
       "      <td>0</td>\n",
       "      <td>0</td>\n",
       "      <td>...</td>\n",
       "      <td>0</td>\n",
       "      <td>0</td>\n",
       "      <td>0</td>\n",
       "      <td>0</td>\n",
       "      <td>0</td>\n",
       "      <td>0</td>\n",
       "      <td>1</td>\n",
       "      <td>0</td>\n",
       "      <td>0</td>\n",
       "      <td>0</td>\n",
       "    </tr>\n",
       "    <tr>\n",
       "      <th>1</th>\n",
       "      <td>I0yFvqMoNkM8ZNHb617e1RBzIS/YRKemHO7Wj13EtA0=</td>\n",
       "      <td>63</td>\n",
       "      <td>0</td>\n",
       "      <td>0</td>\n",
       "      <td>2052</td>\n",
       "      <td>0</td>\n",
       "      <td>0</td>\n",
       "      <td>0</td>\n",
       "      <td>0</td>\n",
       "      <td>0</td>\n",
       "      <td>...</td>\n",
       "      <td>0</td>\n",
       "      <td>0</td>\n",
       "      <td>0</td>\n",
       "      <td>1</td>\n",
       "      <td>0</td>\n",
       "      <td>0</td>\n",
       "      <td>0</td>\n",
       "      <td>1</td>\n",
       "      <td>0</td>\n",
       "      <td>0</td>\n",
       "    </tr>\n",
       "    <tr>\n",
       "      <th>2</th>\n",
       "      <td>OoDwiKZM+ZGr9P3fRivavgOtglTEaNfWJO4KaJcTTts=</td>\n",
       "      <td>-1</td>\n",
       "      <td>0</td>\n",
       "      <td>1</td>\n",
       "      <td>2052</td>\n",
       "      <td>1</td>\n",
       "      <td>0</td>\n",
       "      <td>0</td>\n",
       "      <td>0</td>\n",
       "      <td>0</td>\n",
       "      <td>...</td>\n",
       "      <td>0</td>\n",
       "      <td>0</td>\n",
       "      <td>0</td>\n",
       "      <td>0</td>\n",
       "      <td>0</td>\n",
       "      <td>0</td>\n",
       "      <td>1</td>\n",
       "      <td>0</td>\n",
       "      <td>0</td>\n",
       "      <td>1</td>\n",
       "    </tr>\n",
       "    <tr>\n",
       "      <th>3</th>\n",
       "      <td>4De1jAxNRABoyRBDZ82U0yEmzYkqeOugRGVNIf92Xb8=</td>\n",
       "      <td>28</td>\n",
       "      <td>0</td>\n",
       "      <td>0</td>\n",
       "      <td>2050</td>\n",
       "      <td>0</td>\n",
       "      <td>0</td>\n",
       "      <td>1</td>\n",
       "      <td>0</td>\n",
       "      <td>0</td>\n",
       "      <td>...</td>\n",
       "      <td>0</td>\n",
       "      <td>0</td>\n",
       "      <td>1</td>\n",
       "      <td>0</td>\n",
       "      <td>0</td>\n",
       "      <td>0</td>\n",
       "      <td>0</td>\n",
       "      <td>1</td>\n",
       "      <td>0</td>\n",
       "      <td>0</td>\n",
       "    </tr>\n",
       "    <tr>\n",
       "      <th>4</th>\n",
       "      <td>Z6WIOK9vXy+e2XDBiioNAxuZ0ScXSU/Ebq4tUwqVSrE=</td>\n",
       "      <td>38</td>\n",
       "      <td>0</td>\n",
       "      <td>0</td>\n",
       "      <td>2041</td>\n",
       "      <td>0</td>\n",
       "      <td>0</td>\n",
       "      <td>0</td>\n",
       "      <td>0</td>\n",
       "      <td>0</td>\n",
       "      <td>...</td>\n",
       "      <td>0</td>\n",
       "      <td>1</td>\n",
       "      <td>1</td>\n",
       "      <td>0</td>\n",
       "      <td>0</td>\n",
       "      <td>0</td>\n",
       "      <td>0</td>\n",
       "      <td>1</td>\n",
       "      <td>0</td>\n",
       "      <td>0</td>\n",
       "    </tr>\n",
       "  </tbody>\n",
       "</table>\n",
       "<p>5 rows × 34 columns</p>\n",
       "</div>"
      ],
      "text/plain": [
       "                                           msno  age  age_is_null  \\\n",
       "0  +tJonkh+O1CA796Fm5X60UMOtB6POHAwPjbTRVl/EuU=   -1            0   \n",
       "1  I0yFvqMoNkM8ZNHb617e1RBzIS/YRKemHO7Wj13EtA0=   63            0   \n",
       "2  OoDwiKZM+ZGr9P3fRivavgOtglTEaNfWJO4KaJcTTts=   -1            0   \n",
       "3  4De1jAxNRABoyRBDZ82U0yEmzYkqeOugRGVNIf92Xb8=   28            0   \n",
       "4  Z6WIOK9vXy+e2XDBiioNAxuZ0ScXSU/Ebq4tUwqVSrE=   38            0   \n",
       "\n",
       "   gender_is_null  days_since_start_of_membership  city_1  city_3  city_4  \\\n",
       "0               1                            2056       1       0       0   \n",
       "1               0                            2052       0       0       0   \n",
       "2               1                            2052       1       0       0   \n",
       "3               0                            2050       0       0       1   \n",
       "4               0                            2041       0       0       0   \n",
       "\n",
       "   city_5  city_6    ...     city_21  city_22  gender_female  gender_male  \\\n",
       "0       0       0    ...           0        0              0            0   \n",
       "1       0       0    ...           0        0              0            1   \n",
       "2       0       0    ...           0        0              0            0   \n",
       "3       0       0    ...           0        0              1            0   \n",
       "4       0       0    ...           0        1              1            0   \n",
       "\n",
       "   registered_via_3  registered_via_4  registered_via_7  registered_via_9  \\\n",
       "0                 0                 0                 1                 0   \n",
       "1                 0                 0                 0                 1   \n",
       "2                 0                 0                 1                 0   \n",
       "3                 0                 0                 0                 1   \n",
       "4                 0                 0                 0                 1   \n",
       "\n",
       "   registered_via_13  is_churn  \n",
       "0                  0         0  \n",
       "1                  0         0  \n",
       "2                  0         1  \n",
       "3                  0         0  \n",
       "4                  0         0  \n",
       "\n",
       "[5 rows x 34 columns]"
      ]
     },
     "execution_count": 46,
     "metadata": {},
     "output_type": "execute_result"
    }
   ],
   "source": [
    "members_training.head()"
   ]
  },
  {
   "cell_type": "code",
   "execution_count": 68,
   "metadata": {},
   "outputs": [],
   "source": [
    "X = np.array(members_training.iloc[:, 1:-1])\n",
    "X_columns = members_training.iloc[:, 1:-1].columns"
   ]
  },
  {
   "cell_type": "code",
   "execution_count": 59,
   "metadata": {},
   "outputs": [],
   "source": [
    "y = np.array(members_training.iloc[:, -1])"
   ]
  },
  {
   "cell_type": "code",
   "execution_count": 84,
   "metadata": {},
   "outputs": [
    {
     "name": "stdout",
     "output_type": "stream",
     "text": [
      "The null error rate is 1.87%\n"
     ]
    }
   ],
   "source": [
    "# what is the base rate for churn?\n",
    "print('The null error rate is {:.2f}%'.format(y.mean()*100))"
   ]
  },
  {
   "cell_type": "code",
   "execution_count": 88,
   "metadata": {},
   "outputs": [
    {
     "data": {
      "text/plain": [
       "0.018726447193105854"
      ]
     },
     "execution_count": 88,
     "metadata": {},
     "output_type": "execute_result"
    }
   ],
   "source": [
    "sum(y)/len(y)"
   ]
  },
  {
   "cell_type": "markdown",
   "metadata": {},
   "source": [
    "with such a low base rate, we could predict accurately 98% the time by always predicting 'does not churn'"
   ]
  },
  {
   "cell_type": "code",
   "execution_count": 91,
   "metadata": {},
   "outputs": [
    {
     "name": "stdout",
     "output_type": "stream",
     "text": [
      "base rate in the training set: 8.99%\n"
     ]
    }
   ],
   "source": [
    "print('base rate in the training set: {:.2f}%'.format(sum(training['is_churn'])/len(training)*100))\n"
   ]
  },
  {
   "cell_type": "markdown",
   "metadata": {},
   "source": [
    "when we excluded all the training rows that aren't in members, we massively decreased the \n",
    "base rate in the training set"
   ]
  },
  {
   "cell_type": "code",
   "execution_count": 66,
   "metadata": {},
   "outputs": [
    {
     "data": {
      "text/plain": [
       "0.9812735528068941"
      ]
     },
     "execution_count": 66,
     "metadata": {},
     "output_type": "execute_result"
    }
   ],
   "source": [
    "# instantiate a logistic regression model, and fit with X and y\n",
    "model = LogisticRegression()\n",
    "model = model.fit(X, y)\n",
    "\n",
    "# check the accuracy on the training set\n",
    "model.score(X, y)"
   ]
  },
  {
   "cell_type": "code",
   "execution_count": 73,
   "metadata": {},
   "outputs": [
    {
     "data": {
      "text/html": [
       "<div>\n",
       "<style scoped>\n",
       "    .dataframe tbody tr th:only-of-type {\n",
       "        vertical-align: middle;\n",
       "    }\n",
       "\n",
       "    .dataframe tbody tr th {\n",
       "        vertical-align: top;\n",
       "    }\n",
       "\n",
       "    .dataframe thead th {\n",
       "        text-align: right;\n",
       "    }\n",
       "</style>\n",
       "<table border=\"1\" class=\"dataframe\">\n",
       "  <thead>\n",
       "    <tr style=\"text-align: right;\">\n",
       "      <th></th>\n",
       "      <th>0</th>\n",
       "      <th>1</th>\n",
       "    </tr>\n",
       "  </thead>\n",
       "  <tbody>\n",
       "    <tr>\n",
       "      <th>0</th>\n",
       "      <td>age</td>\n",
       "      <td>[-0.0175070902362]</td>\n",
       "    </tr>\n",
       "    <tr>\n",
       "      <th>1</th>\n",
       "      <td>age_is_null</td>\n",
       "      <td>[0.0]</td>\n",
       "    </tr>\n",
       "    <tr>\n",
       "      <th>2</th>\n",
       "      <td>gender_is_null</td>\n",
       "      <td>[-1.07870299079]</td>\n",
       "    </tr>\n",
       "    <tr>\n",
       "      <th>3</th>\n",
       "      <td>days_since_start_of_membership</td>\n",
       "      <td>[-8.51685166857e-05]</td>\n",
       "    </tr>\n",
       "    <tr>\n",
       "      <th>4</th>\n",
       "      <td>city_1</td>\n",
       "      <td>[0.00163271292506]</td>\n",
       "    </tr>\n",
       "    <tr>\n",
       "      <th>5</th>\n",
       "      <td>city_3</td>\n",
       "      <td>[-0.178555545608]</td>\n",
       "    </tr>\n",
       "    <tr>\n",
       "      <th>6</th>\n",
       "      <td>city_4</td>\n",
       "      <td>[-0.132966572812]</td>\n",
       "    </tr>\n",
       "    <tr>\n",
       "      <th>7</th>\n",
       "      <td>city_5</td>\n",
       "      <td>[-0.159712304749]</td>\n",
       "    </tr>\n",
       "    <tr>\n",
       "      <th>8</th>\n",
       "      <td>city_6</td>\n",
       "      <td>[-0.0977003244307]</td>\n",
       "    </tr>\n",
       "    <tr>\n",
       "      <th>9</th>\n",
       "      <td>city_7</td>\n",
       "      <td>[0.0885354030088]</td>\n",
       "    </tr>\n",
       "    <tr>\n",
       "      <th>10</th>\n",
       "      <td>city_8</td>\n",
       "      <td>[-0.104354470432]</td>\n",
       "    </tr>\n",
       "    <tr>\n",
       "      <th>11</th>\n",
       "      <td>city_9</td>\n",
       "      <td>[-0.0259788416631]</td>\n",
       "    </tr>\n",
       "    <tr>\n",
       "      <th>12</th>\n",
       "      <td>city_10</td>\n",
       "      <td>[-0.103118760445]</td>\n",
       "    </tr>\n",
       "    <tr>\n",
       "      <th>13</th>\n",
       "      <td>city_11</td>\n",
       "      <td>[-0.0191118382998]</td>\n",
       "    </tr>\n",
       "    <tr>\n",
       "      <th>14</th>\n",
       "      <td>city_12</td>\n",
       "      <td>[-0.363579114539]</td>\n",
       "    </tr>\n",
       "    <tr>\n",
       "      <th>15</th>\n",
       "      <td>city_13</td>\n",
       "      <td>[-0.178896813032]</td>\n",
       "    </tr>\n",
       "    <tr>\n",
       "      <th>16</th>\n",
       "      <td>city_14</td>\n",
       "      <td>[-0.0563717034767]</td>\n",
       "    </tr>\n",
       "    <tr>\n",
       "      <th>17</th>\n",
       "      <td>city_15</td>\n",
       "      <td>[0.0331457029583]</td>\n",
       "    </tr>\n",
       "    <tr>\n",
       "      <th>18</th>\n",
       "      <td>city_16</td>\n",
       "      <td>[-0.0779690664833]</td>\n",
       "    </tr>\n",
       "    <tr>\n",
       "      <th>19</th>\n",
       "      <td>city_17</td>\n",
       "      <td>[-0.249550823555]</td>\n",
       "    </tr>\n",
       "    <tr>\n",
       "      <th>20</th>\n",
       "      <td>city_18</td>\n",
       "      <td>[-0.166885794266]</td>\n",
       "    </tr>\n",
       "    <tr>\n",
       "      <th>21</th>\n",
       "      <td>city_19</td>\n",
       "      <td>[-0.0215085270709]</td>\n",
       "    </tr>\n",
       "    <tr>\n",
       "      <th>22</th>\n",
       "      <td>city_20</td>\n",
       "      <td>[-0.120301035362]</td>\n",
       "    </tr>\n",
       "    <tr>\n",
       "      <th>23</th>\n",
       "      <td>city_21</td>\n",
       "      <td>[-0.119563846674]</td>\n",
       "    </tr>\n",
       "    <tr>\n",
       "      <th>24</th>\n",
       "      <td>city_22</td>\n",
       "      <td>[-0.0404480939883]</td>\n",
       "    </tr>\n",
       "    <tr>\n",
       "      <th>25</th>\n",
       "      <td>gender_female</td>\n",
       "      <td>[-0.510946812882]</td>\n",
       "    </tr>\n",
       "    <tr>\n",
       "      <th>26</th>\n",
       "      <td>gender_male</td>\n",
       "      <td>[-0.503609854317]</td>\n",
       "    </tr>\n",
       "    <tr>\n",
       "      <th>27</th>\n",
       "      <td>registered_via_3</td>\n",
       "      <td>[0.324680592531]</td>\n",
       "    </tr>\n",
       "    <tr>\n",
       "      <th>28</th>\n",
       "      <td>registered_via_4</td>\n",
       "      <td>[0.590799804383]</td>\n",
       "    </tr>\n",
       "    <tr>\n",
       "      <th>29</th>\n",
       "      <td>registered_via_7</td>\n",
       "      <td>[-2.09731159022]</td>\n",
       "    </tr>\n",
       "    <tr>\n",
       "      <th>30</th>\n",
       "      <td>registered_via_9</td>\n",
       "      <td>[0.0654251092688]</td>\n",
       "    </tr>\n",
       "    <tr>\n",
       "      <th>31</th>\n",
       "      <td>registered_via_13</td>\n",
       "      <td>[-0.976853573961]</td>\n",
       "    </tr>\n",
       "  </tbody>\n",
       "</table>\n",
       "</div>"
      ],
      "text/plain": [
       "                                 0                     1\n",
       "0                              age    [-0.0175070902362]\n",
       "1                      age_is_null                 [0.0]\n",
       "2                   gender_is_null      [-1.07870299079]\n",
       "3   days_since_start_of_membership  [-8.51685166857e-05]\n",
       "4                           city_1    [0.00163271292506]\n",
       "5                           city_3     [-0.178555545608]\n",
       "6                           city_4     [-0.132966572812]\n",
       "7                           city_5     [-0.159712304749]\n",
       "8                           city_6    [-0.0977003244307]\n",
       "9                           city_7     [0.0885354030088]\n",
       "10                          city_8     [-0.104354470432]\n",
       "11                          city_9    [-0.0259788416631]\n",
       "12                         city_10     [-0.103118760445]\n",
       "13                         city_11    [-0.0191118382998]\n",
       "14                         city_12     [-0.363579114539]\n",
       "15                         city_13     [-0.178896813032]\n",
       "16                         city_14    [-0.0563717034767]\n",
       "17                         city_15     [0.0331457029583]\n",
       "18                         city_16    [-0.0779690664833]\n",
       "19                         city_17     [-0.249550823555]\n",
       "20                         city_18     [-0.166885794266]\n",
       "21                         city_19    [-0.0215085270709]\n",
       "22                         city_20     [-0.120301035362]\n",
       "23                         city_21     [-0.119563846674]\n",
       "24                         city_22    [-0.0404480939883]\n",
       "25                   gender_female     [-0.510946812882]\n",
       "26                     gender_male     [-0.503609854317]\n",
       "27                registered_via_3      [0.324680592531]\n",
       "28                registered_via_4      [0.590799804383]\n",
       "29                registered_via_7      [-2.09731159022]\n",
       "30                registered_via_9     [0.0654251092688]\n",
       "31               registered_via_13     [-0.976853573961]"
      ]
     },
     "execution_count": 73,
     "metadata": {},
     "output_type": "execute_result"
    }
   ],
   "source": [
    "# examine the coefficients\n",
    "pd.DataFrame(list(zip(X_columns, np.transpose(model.coef_))))"
   ]
  },
  {
   "cell_type": "markdown",
   "metadata": {},
   "source": [
    "### Model evaluation"
   ]
  },
  {
   "cell_type": "code",
   "execution_count": 74,
   "metadata": {},
   "outputs": [
    {
     "data": {
      "text/plain": [
       "LogisticRegression(C=1.0, class_weight=None, dual=False, fit_intercept=True,\n",
       "          intercept_scaling=1, max_iter=100, multi_class='ovr', n_jobs=1,\n",
       "          penalty='l2', random_state=None, solver='liblinear', tol=0.0001,\n",
       "          verbose=0, warm_start=False)"
      ]
     },
     "execution_count": 74,
     "metadata": {},
     "output_type": "execute_result"
    }
   ],
   "source": [
    "# evaluate the model by splitting into train and test sets\n",
    "X_train, X_test, y_train, y_test = train_test_split(X, y, test_size=0.3, random_state=0)\n",
    "model2 = LogisticRegression()\n",
    "model2.fit(X_train, y_train)"
   ]
  },
  {
   "cell_type": "code",
   "execution_count": 76,
   "metadata": {},
   "outputs": [
    {
     "name": "stdout",
     "output_type": "stream",
     "text": [
      "[0 0 0 ..., 0 0 0]\n"
     ]
    }
   ],
   "source": [
    "# predict class labels for the test set\n",
    "predicted = model2.predict(X_test)\n",
    "print(predicted)"
   ]
  },
  {
   "cell_type": "code",
   "execution_count": 77,
   "metadata": {},
   "outputs": [
    {
     "data": {
      "text/plain": [
       "False"
      ]
     },
     "execution_count": 77,
     "metadata": {},
     "output_type": "execute_result"
    }
   ],
   "source": [
    "# as I suspected, the model is just learning to predict 'not churn' every time.\n",
    "any(predicted)"
   ]
  }
 ],
 "metadata": {
  "kernelspec": {
   "display_name": "Python 3",
   "language": "python",
   "name": "python3"
  },
  "language_info": {
   "codemirror_mode": {
    "name": "ipython",
    "version": 3
   },
   "file_extension": ".py",
   "mimetype": "text/x-python",
   "name": "python",
   "nbconvert_exporter": "python",
   "pygments_lexer": "ipython3",
   "version": "3.5.0"
  }
 },
 "nbformat": 4,
 "nbformat_minor": 2
}
